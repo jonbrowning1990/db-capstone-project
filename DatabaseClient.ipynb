{
 "cells": [
  {
   "cell_type": "code",
   "execution_count": 1,
   "id": "85c09010-5cb7-4cec-a519-b43164999577",
   "metadata": {},
   "outputs": [],
   "source": [
    "import mysql.connector as connector"
   ]
  },
  {
   "cell_type": "code",
   "execution_count": 17,
   "id": "1f662e38-3b9e-4da6-9933-d2a09c95eb08",
   "metadata": {},
   "outputs": [],
   "source": [
    "connection = connector.connect(user= \"final_project_user\", password = \"almost_finished_23\", db = \"littlelemondb\")"
   ]
  },
  {
   "cell_type": "code",
   "execution_count": 18,
   "id": "3cb277a0-3bad-4932-9bd6-d7c97c53c5ab",
   "metadata": {},
   "outputs": [],
   "source": [
    "cursor = connection.cursor()"
   ]
  },
  {
   "cell_type": "code",
   "execution_count": 19,
   "id": "6fd16151-55d5-43ee-ab8f-bc6237d0e70d",
   "metadata": {},
   "outputs": [],
   "source": [
    "show_tables_query = \"SHOW tables\"\n",
    "cursor.execute(show_tables_query)"
   ]
  },
  {
   "cell_type": "code",
   "execution_count": 20,
   "id": "c563431a-3b86-449b-8316-c50babf37529",
   "metadata": {},
   "outputs": [
    {
     "name": "stdout",
     "output_type": "stream",
     "text": [
      "('bookings',)\n",
      "('customers',)\n",
      "('employees',)\n",
      "('menu',)\n",
      "('menuitems',)\n",
      "('orders',)\n"
     ]
    }
   ],
   "source": [
    "results = cursor.fetchall()\n",
    "for i in results:\n",
    "    print(i)"
   ]
  },
  {
   "cell_type": "code",
   "execution_count": 21,
   "id": "d6f138cc-a066-4109-80d3-4b3e23fdd808",
   "metadata": {},
   "outputs": [],
   "source": [
    "join_query = \"\"\"SELECT CONCAT(Customers.FirstName, ' ', Customers.LastName) AS 'Full Name' , Customers.Phone, Customers.Email\n",
    "FROM Orders INNER JOIN Customers \n",
    "ON Orders.CustomerID = Customers.CustomerID \n",
    "WHERE Cost > 60\"\"\""
   ]
  },
  {
   "cell_type": "code",
   "execution_count": 22,
   "id": "6612b0d2-bc03-4aa3-a3da-687cf2e8d4f5",
   "metadata": {},
   "outputs": [],
   "source": [
    "cursor.execute(join_query)"
   ]
  }
 ],
 "metadata": {
  "kernelspec": {
   "display_name": "Python 3 (ipykernel)",
   "language": "python",
   "name": "python3"
  },
  "language_info": {
   "codemirror_mode": {
    "name": "ipython",
    "version": 3
   },
   "file_extension": ".py",
   "mimetype": "text/x-python",
   "name": "python",
   "nbconvert_exporter": "python",
   "pygments_lexer": "ipython3",
   "version": "3.11.5"
  }
 },
 "nbformat": 4,
 "nbformat_minor": 5
}
